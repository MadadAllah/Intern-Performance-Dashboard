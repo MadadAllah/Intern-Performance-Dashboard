{
 "cells": [
  {
   "cell_type": "markdown",
   "id": "4234793d-0683-4ac8-b9ec-a3d16a6e67e3",
   "metadata": {},
   "source": [
    "# 🎯 Intern Performance Dataset Generator\n",
    "---------------------------------------\n",
    "- This script generates a synthetic dataset of 10,000+ intern records using Faker.\n",
    "- It saves the data to a CSV file for use in dashboards, ML models, and reporting."
   ]
  },
  {
   "cell_type": "code",
   "execution_count": 3,
   "id": "d1ba2428-93f1-444f-ac18-36ac4acb8896",
   "metadata": {},
   "outputs": [],
   "source": [
    "import pandas as pd\n",
    "import numpy as np\n",
    "from faker import Faker\n",
    "import random"
   ]
  },
  {
   "cell_type": "markdown",
   "id": "afa187ba-86e3-4c52-a0e3-bdd8f9012227",
   "metadata": {},
   "source": [
    "# Initialize Faker and seed"
   ]
  },
  {
   "cell_type": "code",
   "execution_count": 4,
   "id": "c682265e-ff9d-4cc5-b411-d96e504569d1",
   "metadata": {},
   "outputs": [],
   "source": [
    "fake = Faker()\n",
    "Faker.seed(42)\n",
    "np.random.seed(42)"
   ]
  },
  {
   "cell_type": "markdown",
   "id": "88d59471-ac70-44c2-ab88-baf7e27f05c6",
   "metadata": {},
   "source": [
    "# Parameters"
   ]
  },
  {
   "cell_type": "code",
   "execution_count": 5,
   "id": "3699d08f-8816-4c5f-a5b6-e2932f171e95",
   "metadata": {},
   "outputs": [],
   "source": [
    "num_rows = 10000\n",
    "departments = ['Tech', 'Marketing', 'HR', 'Finance', 'Design']\n",
    "projects = ['Website Revamp', 'SEO Campaign', 'Recruitment Drive', 'Budget Planning', 'Brand Redesign']\n",
    "statuses = ['Completed', 'Ongoing', 'Dropped']\n",
    "interaction_levels = ['High', 'Medium', 'Low']"
   ]
  },
  {
   "cell_type": "markdown",
   "id": "9d4be4b8-ca67-4b8a-ac78-2626d012c012",
   "metadata": {},
   "source": [
    "# Generate dataset"
   ]
  },
  {
   "cell_type": "code",
   "execution_count": 6,
   "id": "ccb47416-7a92-493d-a182-7cdbc93646d2",
   "metadata": {},
   "outputs": [],
   "source": [
    "data = []\n",
    "for i in range(num_rows):\n",
    "    intern_id = 1000 + i\n",
    "    intern_name = fake.name()\n",
    "    department = random.choice(departments)\n",
    "    task_name = f\"Task {fake.random_int(min=1, max=100)}\"\n",
    "    project = random.choice(projects)\n",
    "    start_date = fake.date_between(start_date='-6M', end_date='today')\n",
    "    status = random.choices(statuses, weights=(70, 20, 10), k=1)[0]\n",
    "\n",
    "    if status == 'Completed':\n",
    "        if department == 'Tech':\n",
    "            days = random.randint(3, 7)\n",
    "        elif department == 'HR':\n",
    "            days = random.randint(10, 15)\n",
    "        else:\n",
    "            days = random.randint(6, 10)\n",
    "        end_date = start_date + pd.Timedelta(days=days)\n",
    "    elif status == 'Ongoing':\n",
    "        end_date = pd.NaT\n",
    "    else:\n",
    "        end_date = start_date + pd.Timedelta(days=random.randint(1, 5))\n",
    "\n",
    "    month = start_date.strftime('%B')\n",
    "\n",
    "    # Department-based variation in scores\n",
    "    if status == 'Completed':\n",
    "        if department == 'Tech':\n",
    "            quality_score = random.randint(8, 10)\n",
    "            feedback_score = random.randint(4, 5)\n",
    "        elif department == 'HR':\n",
    "            quality_score = random.randint(5, 7)\n",
    "            feedback_score = random.randint(2, 3)\n",
    "        else:\n",
    "            quality_score = random.randint(6, 9)\n",
    "            feedback_score = random.randint(3, 5)\n",
    "    else:\n",
    "        quality_score = np.nan\n",
    "        feedback_score = random.choice([2, 3])\n",
    "\n",
    "    interaction_level = random.choice(interaction_levels)\n",
    "\n",
    "    data.append([\n",
    "        intern_id, intern_name, department, task_name, project, start_date,\n",
    "        end_date, month, quality_score, feedback_score, status, interaction_level\n",
    "    ])"
   ]
  },
  {
   "cell_type": "markdown",
   "id": "611d40c1-3b13-42ea-93aa-82fec060ea61",
   "metadata": {},
   "source": [
    "# Create DataFrame"
   ]
  },
  {
   "cell_type": "code",
   "execution_count": 7,
   "id": "d4898fb1-59aa-4678-acd9-306a1939a011",
   "metadata": {},
   "outputs": [],
   "source": [
    "columns = [\n",
    "    'Intern ID', 'Intern Name', 'Department', 'Task Name', 'Project Assigned',\n",
    "    'Date of Assignment', 'Date of Completion', 'Month', 'Project_Quality_Score',\n",
    "    'Mentor_Feedback_Score', 'Completion_Status', 'Interaction_Level'\n",
    "]\n",
    "df = pd.DataFrame(data, columns=columns)"
   ]
  },
  {
   "cell_type": "markdown",
   "id": "202f7c03-87e2-4104-a56f-04b622d7cb34",
   "metadata": {},
   "source": [
    "# Save dataset"
   ]
  },
  {
   "cell_type": "code",
   "execution_count": null,
   "id": "747893b4-af10-4f1b-bd5d-529d1d705d62",
   "metadata": {},
   "outputs": [],
   "source": [
    "output_path = \"intern_performance_dataset.csv\"\n",
    "df.to_csv(output_path, index=False)\n",
    "\n",
    "print(f\"✅ Dataset generated and saved as: {output_path}\")"
   ]
  }
 ],
 "metadata": {
  "kernelspec": {
   "display_name": "Python 3 (ipykernel)",
   "language": "python",
   "name": "python3"
  },
  "language_info": {
   "codemirror_mode": {
    "name": "ipython",
    "version": 3
   },
   "file_extension": ".py",
   "mimetype": "text/x-python",
   "name": "python",
   "nbconvert_exporter": "python",
   "pygments_lexer": "ipython3",
   "version": "3.11.7"
  }
 },
 "nbformat": 4,
 "nbformat_minor": 5
}
